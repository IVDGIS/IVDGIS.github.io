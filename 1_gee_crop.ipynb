{
  "nbformat": 4,
  "nbformat_minor": 0,
  "metadata": {
    "colab": {
      "name": "gee_crop.ipynb",
      "provenance": [],
      "authorship_tag": "ABX9TyNxs6bgw8ZYmXhPTlRD8t51",
      "include_colab_link": true
    },
    "kernelspec": {
      "name": "python3",
      "display_name": "Python 3"
    },
    "language_info": {
      "name": "python"
    }
  },
  "cells": [
    {
      "cell_type": "markdown",
      "metadata": {
        "id": "view-in-github",
        "colab_type": "text"
      },
      "source": [
        "<a href=\"https://colab.research.google.com/github/IVDGIS/IVDGIS.github.io/blob/main/1_gee_crop.ipynb\" target=\"_parent\"><img src=\"https://colab.research.google.com/assets/colab-badge.svg\" alt=\"Open In Colab\"/></a>"
      ]
    },
    {
      "cell_type": "code",
      "execution_count": null,
      "metadata": {
        "id": "ynN_RFJEBGXE"
      },
      "outputs": [],
      "source": [
        "!pip install google-api-python-client"
      ]
    },
    {
      "cell_type": "code",
      "source": [
        "!pip install pyCrypto"
      ],
      "metadata": {
        "colab": {
          "base_uri": "https://localhost:8080/"
        },
        "id": "CixHU6Uk7xmM",
        "outputId": "fb343e5b-725d-4214-f842-c0361fe87f23"
      },
      "execution_count": 3,
      "outputs": [
        {
          "output_type": "stream",
          "name": "stdout",
          "text": [
            "Collecting pyCrypto\n",
            "  Downloading pycrypto-2.6.1.tar.gz (446 kB)\n",
            "\u001b[?25l\r\u001b[K     |▊                               | 10 kB 21.7 MB/s eta 0:00:01\r\u001b[K     |█▌                              | 20 kB 25.4 MB/s eta 0:00:01\r\u001b[K     |██▏                             | 30 kB 17.5 MB/s eta 0:00:01\r\u001b[K     |███                             | 40 kB 15.1 MB/s eta 0:00:01\r\u001b[K     |███▊                            | 51 kB 8.4 MB/s eta 0:00:01\r\u001b[K     |████▍                           | 61 kB 8.4 MB/s eta 0:00:01\r\u001b[K     |█████▏                          | 71 kB 8.6 MB/s eta 0:00:01\r\u001b[K     |█████▉                          | 81 kB 9.5 MB/s eta 0:00:01\r\u001b[K     |██████▋                         | 92 kB 9.8 MB/s eta 0:00:01\r\u001b[K     |███████▍                        | 102 kB 8.0 MB/s eta 0:00:01\r\u001b[K     |████████                        | 112 kB 8.0 MB/s eta 0:00:01\r\u001b[K     |████████▉                       | 122 kB 8.0 MB/s eta 0:00:01\r\u001b[K     |█████████▌                      | 133 kB 8.0 MB/s eta 0:00:01\r\u001b[K     |██████████▎                     | 143 kB 8.0 MB/s eta 0:00:01\r\u001b[K     |███████████                     | 153 kB 8.0 MB/s eta 0:00:01\r\u001b[K     |███████████▊                    | 163 kB 8.0 MB/s eta 0:00:01\r\u001b[K     |████████████▌                   | 174 kB 8.0 MB/s eta 0:00:01\r\u001b[K     |█████████████▏                  | 184 kB 8.0 MB/s eta 0:00:01\r\u001b[K     |██████████████                  | 194 kB 8.0 MB/s eta 0:00:01\r\u001b[K     |██████████████▊                 | 204 kB 8.0 MB/s eta 0:00:01\r\u001b[K     |███████████████▍                | 215 kB 8.0 MB/s eta 0:00:01\r\u001b[K     |████████████████▏               | 225 kB 8.0 MB/s eta 0:00:01\r\u001b[K     |█████████████████               | 235 kB 8.0 MB/s eta 0:00:01\r\u001b[K     |█████████████████▋              | 245 kB 8.0 MB/s eta 0:00:01\r\u001b[K     |██████████████████▍             | 256 kB 8.0 MB/s eta 0:00:01\r\u001b[K     |███████████████████             | 266 kB 8.0 MB/s eta 0:00:01\r\u001b[K     |███████████████████▉            | 276 kB 8.0 MB/s eta 0:00:01\r\u001b[K     |████████████████████▋           | 286 kB 8.0 MB/s eta 0:00:01\r\u001b[K     |█████████████████████▎          | 296 kB 8.0 MB/s eta 0:00:01\r\u001b[K     |██████████████████████          | 307 kB 8.0 MB/s eta 0:00:01\r\u001b[K     |██████████████████████▊         | 317 kB 8.0 MB/s eta 0:00:01\r\u001b[K     |███████████████████████▌        | 327 kB 8.0 MB/s eta 0:00:01\r\u001b[K     |████████████████████████▎       | 337 kB 8.0 MB/s eta 0:00:01\r\u001b[K     |█████████████████████████       | 348 kB 8.0 MB/s eta 0:00:01\r\u001b[K     |█████████████████████████▊      | 358 kB 8.0 MB/s eta 0:00:01\r\u001b[K     |██████████████████████████▍     | 368 kB 8.0 MB/s eta 0:00:01\r\u001b[K     |███████████████████████████▏    | 378 kB 8.0 MB/s eta 0:00:01\r\u001b[K     |████████████████████████████    | 389 kB 8.0 MB/s eta 0:00:01\r\u001b[K     |████████████████████████████▋   | 399 kB 8.0 MB/s eta 0:00:01\r\u001b[K     |█████████████████████████████▍  | 409 kB 8.0 MB/s eta 0:00:01\r\u001b[K     |██████████████████████████████  | 419 kB 8.0 MB/s eta 0:00:01\r\u001b[K     |██████████████████████████████▉ | 430 kB 8.0 MB/s eta 0:00:01\r\u001b[K     |███████████████████████████████▋| 440 kB 8.0 MB/s eta 0:00:01\r\u001b[K     |████████████████████████████████| 446 kB 8.0 MB/s \n",
            "\u001b[?25hBuilding wheels for collected packages: pyCrypto\n",
            "  Building wheel for pyCrypto (setup.py) ... \u001b[?25l\u001b[?25hdone\n",
            "  Created wheel for pyCrypto: filename=pycrypto-2.6.1-cp37-cp37m-linux_x86_64.whl size=499932 sha256=bf2729622518155b2453045428a1047831da8eb1b82dc3f90aeba4c7557ac167\n",
            "  Stored in directory: /root/.cache/pip/wheels/cf/85/ba/bbd7c96add459de7598fb424e5ff2309baf2095c844ac0f191\n",
            "Successfully built pyCrypto\n",
            "Installing collected packages: pyCrypto\n",
            "Successfully installed pyCrypto-2.6.1\n"
          ]
        }
      ]
    },
    {
      "cell_type": "code",
      "source": [
        " !pip install earthengine-api"
      ],
      "metadata": {
        "id": "BCRio8xBKcWD",
        "colab": {
          "base_uri": "https://localhost:8080/"
        },
        "outputId": "3398af05-23f4-4f99-97ef-f275bc6e719a"
      },
      "execution_count": 4,
      "outputs": [
        {
          "output_type": "stream",
          "name": "stdout",
          "text": [
            "Requirement already satisfied: earthengine-api in /usr/local/lib/python3.7/dist-packages (0.1.295)\n",
            "Requirement already satisfied: google-auth-httplib2>=0.0.3 in /usr/local/lib/python3.7/dist-packages (from earthengine-api) (0.0.4)\n",
            "Requirement already satisfied: httplib2shim in /usr/local/lib/python3.7/dist-packages (from earthengine-api) (0.0.3)\n",
            "Requirement already satisfied: google-cloud-storage in /usr/local/lib/python3.7/dist-packages (from earthengine-api) (1.18.1)\n",
            "Requirement already satisfied: six in /usr/local/lib/python3.7/dist-packages (from earthengine-api) (1.15.0)\n",
            "Requirement already satisfied: future in /usr/local/lib/python3.7/dist-packages (from earthengine-api) (0.16.0)\n",
            "Requirement already satisfied: httplib2<1dev,>=0.9.2 in /usr/local/lib/python3.7/dist-packages (from earthengine-api) (0.17.4)\n",
            "Requirement already satisfied: google-api-python-client<2,>=1.12.1 in /usr/local/lib/python3.7/dist-packages (from earthengine-api) (1.12.10)\n",
            "Requirement already satisfied: google-auth>=1.4.1 in /usr/local/lib/python3.7/dist-packages (from earthengine-api) (1.35.0)\n",
            "Requirement already satisfied: google-api-core<3dev,>=1.21.0 in /usr/local/lib/python3.7/dist-packages (from google-api-python-client<2,>=1.12.1->earthengine-api) (1.26.3)\n",
            "Requirement already satisfied: uritemplate<4dev,>=3.0.0 in /usr/local/lib/python3.7/dist-packages (from google-api-python-client<2,>=1.12.1->earthengine-api) (3.0.1)\n",
            "Requirement already satisfied: pytz in /usr/local/lib/python3.7/dist-packages (from google-api-core<3dev,>=1.21.0->google-api-python-client<2,>=1.12.1->earthengine-api) (2018.9)\n",
            "Requirement already satisfied: protobuf>=3.12.0 in /usr/local/lib/python3.7/dist-packages (from google-api-core<3dev,>=1.21.0->google-api-python-client<2,>=1.12.1->earthengine-api) (3.17.3)\n",
            "Requirement already satisfied: requests<3.0.0dev,>=2.18.0 in /usr/local/lib/python3.7/dist-packages (from google-api-core<3dev,>=1.21.0->google-api-python-client<2,>=1.12.1->earthengine-api) (2.23.0)\n",
            "Requirement already satisfied: setuptools>=40.3.0 in /usr/local/lib/python3.7/dist-packages (from google-api-core<3dev,>=1.21.0->google-api-python-client<2,>=1.12.1->earthengine-api) (57.4.0)\n",
            "Requirement already satisfied: googleapis-common-protos<2.0dev,>=1.6.0 in /usr/local/lib/python3.7/dist-packages (from google-api-core<3dev,>=1.21.0->google-api-python-client<2,>=1.12.1->earthengine-api) (1.54.0)\n",
            "Requirement already satisfied: packaging>=14.3 in /usr/local/lib/python3.7/dist-packages (from google-api-core<3dev,>=1.21.0->google-api-python-client<2,>=1.12.1->earthengine-api) (21.3)\n",
            "Requirement already satisfied: pyasn1-modules>=0.2.1 in /usr/local/lib/python3.7/dist-packages (from google-auth>=1.4.1->earthengine-api) (0.2.8)\n",
            "Requirement already satisfied: cachetools<5.0,>=2.0.0 in /usr/local/lib/python3.7/dist-packages (from google-auth>=1.4.1->earthengine-api) (4.2.4)\n",
            "Requirement already satisfied: rsa<5,>=3.1.4 in /usr/local/lib/python3.7/dist-packages (from google-auth>=1.4.1->earthengine-api) (4.8)\n",
            "Requirement already satisfied: pyparsing!=3.0.5,>=2.0.2 in /usr/local/lib/python3.7/dist-packages (from packaging>=14.3->google-api-core<3dev,>=1.21.0->google-api-python-client<2,>=1.12.1->earthengine-api) (3.0.7)\n",
            "Requirement already satisfied: pyasn1<0.5.0,>=0.4.6 in /usr/local/lib/python3.7/dist-packages (from pyasn1-modules>=0.2.1->google-auth>=1.4.1->earthengine-api) (0.4.8)\n",
            "Requirement already satisfied: urllib3!=1.25.0,!=1.25.1,<1.26,>=1.21.1 in /usr/local/lib/python3.7/dist-packages (from requests<3.0.0dev,>=2.18.0->google-api-core<3dev,>=1.21.0->google-api-python-client<2,>=1.12.1->earthengine-api) (1.24.3)\n",
            "Requirement already satisfied: certifi>=2017.4.17 in /usr/local/lib/python3.7/dist-packages (from requests<3.0.0dev,>=2.18.0->google-api-core<3dev,>=1.21.0->google-api-python-client<2,>=1.12.1->earthengine-api) (2021.10.8)\n",
            "Requirement already satisfied: idna<3,>=2.5 in /usr/local/lib/python3.7/dist-packages (from requests<3.0.0dev,>=2.18.0->google-api-core<3dev,>=1.21.0->google-api-python-client<2,>=1.12.1->earthengine-api) (2.10)\n",
            "Requirement already satisfied: chardet<4,>=3.0.2 in /usr/local/lib/python3.7/dist-packages (from requests<3.0.0dev,>=2.18.0->google-api-core<3dev,>=1.21.0->google-api-python-client<2,>=1.12.1->earthengine-api) (3.0.4)\n",
            "Requirement already satisfied: google-cloud-core<2.0dev,>=1.0.0 in /usr/local/lib/python3.7/dist-packages (from google-cloud-storage->earthengine-api) (1.0.3)\n",
            "Requirement already satisfied: google-resumable-media<0.5.0dev,>=0.3.1 in /usr/local/lib/python3.7/dist-packages (from google-cloud-storage->earthengine-api) (0.4.1)\n"
          ]
        }
      ]
    },
    {
      "cell_type": "code",
      "source": [
        "import ee\n",
        "import folium"
      ],
      "metadata": {
        "id": "ETvCjlYLlIQT"
      },
      "execution_count": 5,
      "outputs": []
    },
    {
      "cell_type": "code",
      "source": [
        "ee.Authenticate()"
      ],
      "metadata": {
        "colab": {
          "base_uri": "https://localhost:8080/"
        },
        "id": "cg4I9VGIjY60",
        "outputId": "37cd560f-e2cc-40fe-ade9-c54a2f9f3694"
      },
      "execution_count": 6,
      "outputs": [
        {
          "output_type": "stream",
          "name": "stdout",
          "text": [
            "To authorize access needed by Earth Engine, open the following URL in a web browser and follow the instructions. If the web browser does not start automatically, please manually browse the URL below.\n",
            "\n",
            "    https://accounts.google.com/o/oauth2/auth?client_id=517222506229-vsmmajv00ul0bs7p89v5m89qs8eb9359.apps.googleusercontent.com&scope=https%3A%2F%2Fwww.googleapis.com%2Fauth%2Fearthengine+https%3A%2F%2Fwww.googleapis.com%2Fauth%2Fdevstorage.full_control&redirect_uri=urn%3Aietf%3Awg%3Aoauth%3A2.0%3Aoob&response_type=code&code_challenge=M22WOToDni05WbgtTw1xRsOpQ1kZ1WkBoxF-ZOtPu9Y&code_challenge_method=S256\n",
            "\n",
            "The authorization workflow will generate a code, which you should paste in the box below. \n",
            "Enter verification code: 4/1AX4XfWjuIjSx93lE5xB8axlB5mY6c57NAIfkpeFZx4zKrCFfU0B6dG_UkAw\n",
            "\n",
            "Successfully saved authorization token.\n"
          ]
        }
      ]
    },
    {
      "cell_type": "code",
      "source": [
        "ee.Initialize()"
      ],
      "metadata": {
        "id": "fpvNzx_cFHY0"
      },
      "execution_count": 7,
      "outputs": []
    },
    {
      "cell_type": "code",
      "source": [
        "image=ee.Image('srtm90_v4')"
      ],
      "metadata": {
        "id": "IdSkyWc9FfwM"
      },
      "execution_count": 8,
      "outputs": []
    },
    {
      "cell_type": "code",
      "source": [
        "print(image.getInfo())"
      ],
      "metadata": {
        "colab": {
          "base_uri": "https://localhost:8080/"
        },
        "id": "nVySthpPFmgV",
        "outputId": "6557ec50-a380-47ac-f82d-9bb94147abc7"
      },
      "execution_count": 9,
      "outputs": [
        {
          "output_type": "stream",
          "name": "stdout",
          "text": [
            "{'type': 'Image', 'bands': [{'id': 'elevation', 'data_type': {'type': 'PixelType', 'precision': 'int', 'min': -32768, 'max': 32767}, 'dimensions': [432000, 144000], 'crs': 'EPSG:4326', 'crs_transform': [0.000833333333333, 0, -180, 0, -0.000833333333333, 60]}], 'version': 1494271934303000.0, 'id': 'srtm90_v4', 'properties': {'system:time_start': 950227200000, 'system:time_end': 951177600000, 'system:asset_size': 18827626666}}\n"
          ]
        }
      ]
    },
    {
      "cell_type": "code",
      "source": [
        "geometry = ee.Geometry.Rectangle([80.058, 26.347, 80.258, 26.547]) \n",
        "region=geometry.toGeoJSONString()"
      ],
      "metadata": {
        "id": "sleEhReKrb5G"
      },
      "execution_count": 18,
      "outputs": []
    },
    {
      "cell_type": "code",
      "source": [
        "imageCollection = ee.ImageCollection('COPERNICUS/S2')\n",
        "imageCollection  = imageCollection .mosaic()\n",
        "url = imageCollection .getDownloadUrl({\n",
        "                    'scale': 30,\n",
        "                    'crs': 'EPSG:4326',\n",
        "                    'region': region\n",
        "                });\n",
        "print(url)"
      ],
      "metadata": {
        "colab": {
          "base_uri": "https://localhost:8080/"
        },
        "id": "GH7MSq1s_TXA",
        "outputId": "500124aa-7844-4cfd-87a0-85a01e8bc2cb"
      },
      "execution_count": 20,
      "outputs": [
        {
          "output_type": "stream",
          "name": "stdout",
          "text": [
            "https://earthengine.googleapis.com/v1alpha/projects/earthengine-legacy/thumbnails/835594f11a77bd4d3d15097c64db496d-0c1d32521e4b639b9bafe46b077b3468:getPixels\n"
          ]
        }
      ]
    }
  ]
}